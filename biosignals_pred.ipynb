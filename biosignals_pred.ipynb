{
 "cells": [
  {
   "cell_type": "markdown",
   "metadata": {},
   "source": [
    "<style>\n",
    ".rendered_html {\n",
    "    font-size: 17px;\n",
    "    font-family: Times New Roman, serif;\n",
    "    text-align:justify}\n",
    "</style>"
   ]
  },
  {
   "cell_type": "markdown",
   "metadata": {},
   "source": [
    "# Using Bio-Signals to Predict Smoker Status"
   ]
  },
  {
   "cell_type": "markdown",
   "metadata": {},
   "source": [
    "I chose the following dataset: https://www.kaggle.com/datasets/gauravduttakiit/smoker-status-prediction-using-biosignals\n",
    "\n",
    "I decided on using this dataset because it provides over 55,000 rows of biological data, including bio-signals like the levels of individual hormones and proteins, about both smokers and non-smokers. I am interested in determining if there are any strong trends or clusters between any combination of these bio-signals and smoking. "
   ]
  },
  {
   "cell_type": "code",
   "execution_count": null,
   "metadata": {},
   "outputs": [],
   "source": []
  }
 ],
 "metadata": {
  "language_info": {
   "name": "python"
  }
 },
 "nbformat": 4,
 "nbformat_minor": 2
}
